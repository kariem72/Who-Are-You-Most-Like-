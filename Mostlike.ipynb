{
 "cells": [
  {
   "cell_type": "code",
   "execution_count": 1,
   "id": "ba7bd740-0391-4ef7-9f2b-ec4857cef6f1",
   "metadata": {},
   "outputs": [
    {
     "name": "stdout",
     "output_type": "stream",
     "text": [
      "Who Are You Most Like ? - Cartoon & Celeb Edition\n",
      "\n",
      "إيه أكتر حاجة بتحب تعملها؟\n",
      "1. حل مسائل أو تفكير منطقي\n",
      "2. ألعاب بسيطة أو حاجات مسلية\n",
      "3. القراءة أو البرمجة أو التحليل\n",
      "4. مش بفضل التفكير الكتير\n"
     ]
    },
    {
     "name": "stdin",
     "output_type": "stream",
     "text": [
      "اختيارك (رقم):  3\n"
     ]
    },
    {
     "name": "stdout",
     "output_type": "stream",
     "text": [
      "\n",
      "بتتصرف إزاي وقت الضغط؟\n",
      "1. بهدا وأحاول أركز\n",
      "2. ببان هادي لكن ببقى مشدود\n",
      "3. بتوتر بسرعة\n",
      "4. بانفعل على طول\n"
     ]
    },
    {
     "name": "stdin",
     "output_type": "stream",
     "text": [
      "اختيارك (رقم):  1\n"
     ]
    },
    {
     "name": "stdout",
     "output_type": "stream",
     "text": [
      "\n",
      "لما حد يستفزك، بتعمل إيه؟\n",
      "1. بزعق فورًا\n",
      "2. بتعصب جوايا\n",
      "3. بمشي ومردش\n",
      "4. بسكت ومش بعلق\n"
     ]
    },
    {
     "name": "stdin",
     "output_type": "stream",
     "text": [
      "اختيارك (رقم):  2\n"
     ]
    },
    {
     "name": "stdout",
     "output_type": "stream",
     "text": [
      "\n",
      "لما حد يظلمك، رد فعلك؟\n",
      "1. بواجهه بصراحة\n",
      "2. بطنش\n",
      "3. بطلب حد يساعدني\n",
      "4. بستنى وقت مناسب وأتحرك\n"
     ]
    },
    {
     "name": "stdin",
     "output_type": "stream",
     "text": [
      "اختيارك (رقم):  1\n"
     ]
    },
    {
     "name": "stdout",
     "output_type": "stream",
     "text": [
      "\n",
      "بتتعامل إزاي وسط صحابك؟\n",
      "1. بهزر وأضحّكهم\n",
      "2. ساكت وبضحك قليل\n",
      "3. جدي في معظم الوقت\n",
      "4. على حسب المود\n"
     ]
    },
    {
     "name": "stdin",
     "output_type": "stream",
     "text": [
      "اختيارك (رقم):  2\n"
     ]
    },
    {
     "name": "stdout",
     "output_type": "stream",
     "text": [
      "\n",
      " النتيجة:\n",
      "\n",
      " الشخصيات الكرتونية الأقرب ليك:\n",
      "  1. Ben 10 (Cartoon) بنسبة شبه 99.7%\n",
      "  2. Goku (Cartoon) بنسبة شبه 99.5%\n",
      "  3. Elsa (Cartoon) بنسبة شبه 99.0%\n",
      "\n",
      " الشخصيات العامة أو المشهورة الأقرب ليك:\n",
      "  1. Asser Yassin (Arab Public) بنسبة شبه 99.8%\n",
      "  2. Newton (Scientists) بنسبة شبه 99.7%\n",
      "  3. Angela Merkel (Politicians) بنسبة شبه 99.7%\n",
      "\n",
      "تحليل سماتك:\n",
      "  الذكاء / التحليل → إنت: 80\n",
      "  الهدوء / التحكم → إنت: 90\n",
      "  العصبية / الانفعال → إنت: 70\n",
      "  الجرأة / الشجاعة → إنت: 90\n",
      "  المرح / الاجتماعيّة → إنت: 50\n"
     ]
    }
   ],
   "source": [
    "import pandas as pd\n",
    "import numpy as np\n",
    "from sklearn.metrics.pairwise import cosine_similarity\n",
    "import re\n",
    "\n",
    "df = pd.read_csv('unique_1000_characters_dataset.csv', sep='\\t')\n",
    "df.rename(columns={df.columns[0]: 'Character'}, inplace=True)\n",
    "df['Character'] = df['Character'].apply(lambda x: re.sub(r'\\s*#\\d+', '', x))\n",
    "trait_columns = ['BAP1', 'BAP2', 'BAP3', 'BAP4', 'BAP5']\n",
    "df = df[['Character'] + trait_columns]\n",
    "\n",
    "for col in trait_columns:\n",
    "    df[col] = pd.to_numeric(df[col], errors='coerce')\n",
    "df = df.dropna()\n",
    "\n",
    "def get_category(name):\n",
    "    name = name.lower()\n",
    "    if 'cartoon' in name:\n",
    "        return 'Cartoon'\n",
    "    else:\n",
    "        return 'Modern'\n",
    "\n",
    "df['Category'] = df['Character'].apply(get_category)\n",
    "df = df[df['Category'].isin(['Cartoon', 'Modern'])]\n",
    "df.set_index('Character', inplace=True)\n",
    "\n",
    "questions = {\n",
    "    'BAP1': {\n",
    "        \"إيه أكتر حاجة بتحب تعملها؟\": {\n",
    "            \"حل مسائل أو تفكير منطقي\": 90,\n",
    "            \"ألعاب بسيطة أو حاجات مسلية\": 40,\n",
    "            \"القراءة أو البرمجة أو التحليل\": 80,\n",
    "            \"مش بفضل التفكير الكتير\": 20\n",
    "        }\n",
    "    },\n",
    "    'BAP2': {\n",
    "        \"بتتصرف إزاي وقت الضغط؟\": {\n",
    "            \"بهدا وأحاول أركز\": 90,\n",
    "            \"ببان هادي لكن ببقى مشدود\": 70,\n",
    "            \"بتوتر بسرعة\": 40,\n",
    "            \"بانفعل على طول\": 20\n",
    "        }\n",
    "    },\n",
    "    'BAP3': {\n",
    "        \"لما حد يستفزك، بتعمل إيه؟\": {\n",
    "            \"بزعق فورًا\": 90,\n",
    "            \"بتعصب جوايا\": 70,\n",
    "            \"بمشي ومردش\": 30,\n",
    "            \"بسكت ومش بعلق\": 40\n",
    "        }\n",
    "    },\n",
    "    'BAP4': {\n",
    "        \"لما حد يظلمك، رد فعلك؟\": {\n",
    "            \"بواجهه بصراحة\": 90,\n",
    "            \"بطنش\": 30,\n",
    "            \"بطلب حد يساعدني\": 60,\n",
    "            \"بستنى وقت مناسب وأتحرك\": 70\n",
    "        }\n",
    "    },\n",
    "    'BAP5': {\n",
    "        \"بتتعامل إزاي وسط صحابك؟\": {\n",
    "            \"بهزر وأضحّكهم\": 90,\n",
    "            \"ساكت وبضحك قليل\": 50,\n",
    "            \"جدي في معظم الوقت\": 30,\n",
    "            \"على حسب المود\": 60\n",
    "        }\n",
    "    }\n",
    "}\n",
    "\n",
    "trait_names = {\n",
    "    'BAP1': 'الذكاء / التحليل',\n",
    "    'BAP2': 'الهدوء / التحكم',\n",
    "    'BAP3': 'العصبية / الانفعال',\n",
    "    'BAP4': 'الجرأة / الشجاعة',\n",
    "    'BAP5': 'المرح / الاجتماعيّة'\n",
    "}\n",
    "\n",
    "def ask_questions():\n",
    "    answers = {}\n",
    "    for bap, qdata in questions.items():\n",
    "        q_text = list(qdata.keys())[0]\n",
    "        options = list(qdata[q_text].keys())\n",
    "        print(f\"\\n{q_text}\")\n",
    "        for i, opt in enumerate(options):\n",
    "            print(f\"{i+1}. {opt}\")\n",
    "        while True:\n",
    "            try:\n",
    "                choice = int(input(\"اختيارك (رقم): \"))\n",
    "                if 1 <= choice <= len(options):\n",
    "                    answers[bap] = qdata[q_text][options[choice-1]]\n",
    "                    break\n",
    "                else:\n",
    "                    print(\"اختار رقم من الاختيارات.\")\n",
    "            except ValueError:\n",
    "                print(\"اكتب رقم.\")\n",
    "    return answers\n",
    "\n",
    "def find_top_characters(user_scores, top_n=3):\n",
    "    user_vector = np.array([user_scores[f'BAP{i+1}'] for i in range(5)]).reshape(1, -1)\n",
    "    char_vectors = df[trait_columns].values\n",
    "    similarities = cosine_similarity(user_vector, char_vectors)[0]\n",
    "    df['Similarity'] = similarities\n",
    "    top_cartoon = df[df['Category'] == 'Cartoon'].nlargest(top_n, 'Similarity')\n",
    "    top_modern = df[df['Category'] == 'Modern'].nlargest(top_n, 'Similarity')\n",
    "    return top_cartoon, top_modern\n",
    "\n",
    "def print_result(user_scores, top_cartoon, top_modern):\n",
    "    def show_list(title, df_list):\n",
    "        print(f\"\\n {title}:\")\n",
    "        if df_list.empty:\n",
    "            print(\" لا يوجد شخصيات مناسبة حالياً.\")\n",
    "        else:\n",
    "            for i, (name, row) in enumerate(df_list.iterrows(), 1):\n",
    "                print(f\"  {i}. {name} بنسبة شبه {row['Similarity']*100:.1f}%\")\n",
    "    print(\"\\n النتيجة:\")\n",
    "    show_list(\"الشخصيات الكرتونية الأقرب ليك\", top_cartoon)\n",
    "    show_list(\"الشخصيات العامة أو المشهورة الأقرب ليك\", top_modern)\n",
    "    print(\"\\nتحليل سماتك:\")\n",
    "    for i in range(5):\n",
    "        dim = f'BAP{i+1}'\n",
    "        print(f\"  {trait_names[dim]} → إنت: {user_scores[dim]}\")\n",
    "\n",
    "print(\"Who Are You Most Like ? - Cartoon & Celeb Edition\")\n",
    "user_scores = ask_questions()\n",
    "top_cartoon, top_modern = find_top_characters(user_scores)\n",
    "print_result(user_scores, top_cartoon, top_modern)\n"
   ]
  },
  {
   "cell_type": "code",
   "execution_count": null,
   "id": "99247f45-53cd-4bb5-9e0f-506c0dde4e41",
   "metadata": {},
   "outputs": [],
   "source": []
  }
 ],
 "metadata": {
  "kernelspec": {
   "display_name": "Python 3 (ipykernel)",
   "language": "python",
   "name": "python3"
  },
  "language_info": {
   "codemirror_mode": {
    "name": "ipython",
    "version": 3
   },
   "file_extension": ".py",
   "mimetype": "text/x-python",
   "name": "python",
   "nbconvert_exporter": "python",
   "pygments_lexer": "ipython3",
   "version": "3.12.6"
  }
 },
 "nbformat": 4,
 "nbformat_minor": 5
}
